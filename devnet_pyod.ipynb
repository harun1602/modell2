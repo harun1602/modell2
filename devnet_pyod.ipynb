{
 "cells": [
  {
   "cell_type": "code",
   "id": "initial_id",
   "metadata": {
    "collapsed": true,
    "ExecuteTime": {
     "end_time": "2025-06-02T11:24:44.097233Z",
     "start_time": "2025-06-02T11:24:40.302538Z"
    }
   },
   "source": [
    "import h5py\n",
    "import numpy as np\n",
    "import matplotlib.pyplot as plt\n",
    "import seaborn as sns\n",
    "\n",
    "from sklearn.metrics import confusion_matrix, classification_report\n",
    "from sklearn.preprocessing import MinMaxScaler\n",
    "from pyod.models.devnet import DevNet\n",
    "\n",
    "# daten laden\n",
    "normal_path = \"transients/S01/1/Normal/q_data\"\n",
    "relay_path  = \"transients/S01/1/Relay/q_data\"\n",
    "\n",
    "with h5py.File(\"datasets/transients_cleaned_padded.h5\", \"r\") as f:\n",
    "    normal_group = f[normal_path]\n",
    "    relay_group  = f[relay_path]\n",
    "\n",
    "    n_norm = normal_group[\"0\"].shape[0]\n",
    "    n_relay = relay_group[\"0\"].shape[0]\n",
    "\n",
    "    dataset_normal = np.zeros((49998, n_norm))\n",
    "    dataset_relay  = np.zeros((49666, n_relay))\n",
    "\n",
    "    for i in range(49998):\n",
    "        dataset_normal[i] = normal_group[str(i)][:]\n",
    "    for i in range(49666):\n",
    "        try:\n",
    "            dataset_relay[i] = relay_group[str(i)][:]\n",
    "        except KeyError:\n",
    "            continue\n",
    "\n",
    "# daten definieren und skalieren\n",
    "scaler = MinMaxScaler()\n",
    "\n",
    "X_train               = dataset_normal[:47500]\n",
    "X_test_normal         = dataset_normal[47500:]      # 2498 Normal\n",
    "X_test_relay          = dataset_relay[47500:]        # 2166 Relay\n",
    "\n",
    "scaler.fit(X_train)\n",
    "X_train_scaled        = scaler.transform(X_train)\n",
    "X_test_norm_scaled    = scaler.transform(X_test_normal)\n",
    "X_test_relay_scaled   = scaler.transform(X_test_relay)\n",
    "\n",
    "X_test_combined = np.vstack((X_test_normal, X_test_relay))\n",
    "X_test_combined_scaled = np.vstack((X_test_norm_scaled, X_test_relay_scaled))\n",
    "\n",
    "y_true = np.array([0] * len(X_test_normal) + [1] * len(X_test_relay))\n",
    "\n",
    "# modell trainieren, contamination gibt an, wie viele outlier man im trainigsdatensatz hat\n",
    "# contamination kann man bei reiner novelty detection zb auf 0.01 oder 0.05 setzen\n",
    "for n in {2,3,5,10}:\n",
    "    clf = DevNet(contamination=len(X_test_relay)/len(X_test_combined), network_depth=n)\n",
    "    clf.fit(X_train, )\n",
    "\n",
    "    # pyod.predict: 0 = inlier, 1 = outlier\n",
    "    y_pred = clf.predict(X_test_combined)\n",
    "\n",
    "    # cm und report\n",
    "    cm = confusion_matrix(y_true, y_pred, labels=[1,0])\n",
    "    print(n)\n",
    "    print(\"\\nClassification Report:\\n\", classification_report(y_true, y_pred, target_names=[\"Normal\",\"Relay\"]))\n",
    "\n",
    "    # plot\n",
    "    plt.figure(figsize=(6,5))\n",
    "    sns.heatmap(cm, annot=True, fmt=\"d\",\n",
    "                xticklabels=[\"Relay\",\"Normal\"],\n",
    "                yticklabels=[\"Relay\",\"Normal\"],\n",
    "                cbar=False)\n",
    "    plt.xlabel(\"Predicted\")\n",
    "    plt.ylabel(\"True\")\n",
    "    plt.title(\"Konfusionsmatrix\")\n",
    "    plt.tight_layout()\n",
    "    plt.show()"
   ],
   "outputs": [
    {
     "name": "stdout",
     "output_type": "stream",
     "text": [
      "Original training size: 47500, No. outliers: 0\n"
     ]
    },
    {
     "ename": "AttributeError",
     "evalue": "'NoneType' object has no attribute 'shape'",
     "output_type": "error",
     "traceback": [
      "\u001B[0;31m---------------------------------------------------------------------------\u001B[0m",
      "\u001B[0;31mAttributeError\u001B[0m                            Traceback (most recent call last)",
      "Cell \u001B[0;32mIn[2], line 53\u001B[0m\n\u001B[1;32m     51\u001B[0m \u001B[38;5;28;01mfor\u001B[39;00m n \u001B[38;5;129;01min\u001B[39;00m {\u001B[38;5;241m2\u001B[39m,\u001B[38;5;241m3\u001B[39m,\u001B[38;5;241m5\u001B[39m,\u001B[38;5;241m10\u001B[39m}:\n\u001B[1;32m     52\u001B[0m     clf \u001B[38;5;241m=\u001B[39m DevNet(contamination\u001B[38;5;241m=\u001B[39m\u001B[38;5;28mlen\u001B[39m(X_test_relay)\u001B[38;5;241m/\u001B[39m\u001B[38;5;28mlen\u001B[39m(X_test_combined), network_depth\u001B[38;5;241m=\u001B[39mn)\n\u001B[0;32m---> 53\u001B[0m     \u001B[43mclf\u001B[49m\u001B[38;5;241;43m.\u001B[39;49m\u001B[43mfit\u001B[49m\u001B[43m(\u001B[49m\u001B[43mX_train\u001B[49m\u001B[43m,\u001B[49m\u001B[43m \u001B[49m\u001B[38;5;28;43;01mNone\u001B[39;49;00m\u001B[43m)\u001B[49m\n\u001B[1;32m     55\u001B[0m     \u001B[38;5;66;03m# pyod.predict: 0 = inlier, 1 = outlier\u001B[39;00m\n\u001B[1;32m     56\u001B[0m     y_pred \u001B[38;5;241m=\u001B[39m clf\u001B[38;5;241m.\u001B[39mpredict(X_test_combined)\n",
      "File \u001B[0;32m/Library/Frameworks/Python.framework/Versions/3.12/lib/python3.12/site-packages/pyod/models/devnet.py:247\u001B[0m, in \u001B[0;36mDevNet.fit\u001B[0;34m(self, X, y)\u001B[0m\n\u001B[1;32m    245\u001B[0m outlier_indices \u001B[38;5;241m=\u001B[39m np\u001B[38;5;241m.\u001B[39mwhere(y \u001B[38;5;241m==\u001B[39m \u001B[38;5;241m1\u001B[39m)[\u001B[38;5;241m0\u001B[39m]\n\u001B[1;32m    246\u001B[0m inlier_indices \u001B[38;5;241m=\u001B[39m np\u001B[38;5;241m.\u001B[39mwhere(y \u001B[38;5;241m==\u001B[39m \u001B[38;5;241m0\u001B[39m)[\u001B[38;5;241m0\u001B[39m]\n\u001B[0;32m--> 247\u001B[0m \u001B[38;5;28mprint\u001B[39m(\u001B[43my\u001B[49m\u001B[38;5;241;43m.\u001B[39;49m\u001B[43mshape\u001B[49m[\u001B[38;5;241m0\u001B[39m], outlier_indices\u001B[38;5;241m.\u001B[39mshape[\u001B[38;5;241m0\u001B[39m], inlier_indices\u001B[38;5;241m.\u001B[39mshape[\u001B[38;5;241m0\u001B[39m],\n\u001B[1;32m    248\u001B[0m       n_noise)\n\u001B[1;32m    249\u001B[0m \u001B[38;5;66;03m# Data manipulation part can be adjusted as needed.\u001B[39;00m\n\u001B[1;32m    250\u001B[0m \u001B[38;5;28mself\u001B[39m\u001B[38;5;241m.\u001B[39mmodel, optimizer \u001B[38;5;241m=\u001B[39m deviation_network(X\u001B[38;5;241m.\u001B[39mshape[\u001B[38;5;241m1\u001B[39m],\n\u001B[1;32m    251\u001B[0m                                           \u001B[38;5;28mself\u001B[39m\u001B[38;5;241m.\u001B[39mnetwork_depth)\n",
      "\u001B[0;31mAttributeError\u001B[0m: 'NoneType' object has no attribute 'shape'"
     ]
    }
   ],
   "execution_count": 2
  }
 ],
 "metadata": {
  "kernelspec": {
   "display_name": "Python 3",
   "language": "python",
   "name": "python3"
  },
  "language_info": {
   "codemirror_mode": {
    "name": "ipython",
    "version": 2
   },
   "file_extension": ".py",
   "mimetype": "text/x-python",
   "name": "python",
   "nbconvert_exporter": "python",
   "pygments_lexer": "ipython2",
   "version": "2.7.6"
  }
 },
 "nbformat": 4,
 "nbformat_minor": 5
}
