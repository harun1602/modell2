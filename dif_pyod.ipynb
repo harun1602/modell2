{
 "cells": [
  {
   "metadata": {
    "ExecuteTime": {
     "end_time": "2025-06-02T12:46:55.647757Z",
     "start_time": "2025-06-02T12:19:34.545907Z"
    }
   },
   "cell_type": "code",
   "source": [
    "import h5py\n",
    "import numpy as np\n",
    "import matplotlib.pyplot as plt\n",
    "import seaborn as sns\n",
    "\n",
    "from sklearn.metrics import confusion_matrix, classification_report\n",
    "from sklearn.preprocessing import MinMaxScaler\n",
    "from pyod.models.dif import DIF\n",
    "\n",
    "# daten laden\n",
    "normal_path = \"transients/S01/1/Normal/q_data\"\n",
    "relay_path  = \"transients/S01/1/Relay/q_data\"\n",
    "\n",
    "with h5py.File(\"datasets/transients_cleaned_padded.h5\", \"r\") as f:\n",
    "    normal_group = f[normal_path]\n",
    "    relay_group  = f[relay_path]\n",
    "\n",
    "    n_norm = normal_group[\"0\"].shape[0]\n",
    "    n_relay = relay_group[\"0\"].shape[0]\n",
    "\n",
    "    dataset_normal = np.zeros((49998, n_norm))\n",
    "    dataset_relay  = np.zeros((49666, n_relay))\n",
    "\n",
    "    for i in range(49998):\n",
    "        dataset_normal[i] = normal_group[str(i)][:]\n",
    "    for i in range(49666):\n",
    "        try:\n",
    "            dataset_relay[i] = relay_group[str(i)][:]\n",
    "        except KeyError:\n",
    "            continue\n",
    "\n",
    "# daten definieren und skalieren\n",
    "scaler = MinMaxScaler()\n",
    "\n",
    "X_train               = dataset_normal[:47500]\n",
    "X_test_normal         = dataset_normal[47500:]      # 2498 Normal\n",
    "X_test_relay          = dataset_relay[47500:]        # 2166 Relay\n",
    "\n",
    "scaler.fit(X_train)\n",
    "X_train_scaled        = scaler.transform(X_train)\n",
    "X_test_norm_scaled    = scaler.transform(X_test_normal)\n",
    "X_test_relay_scaled   = scaler.transform(X_test_relay)\n",
    "\n",
    "X_test_combined = np.vstack((X_test_normal, X_test_relay))\n",
    "X_test_combined_scaled = np.vstack((X_test_norm_scaled, X_test_relay_scaled))\n",
    "\n",
    "y_true = np.array([0] * len(X_test_normal) + [1] * len(X_test_relay))\n",
    "\n",
    "# modell trainieren, contamination gibt an, wie viele outlier man im trainigsdatensatz hat\n",
    "# contamination kann man bei reiner novelty detection zb auf 0.01 oder 0.05 setzen\n",
    "for e in {100}:\n",
    "    for m in {512}:\n",
    "        clf = DIF(contamination=0.01, hidden_neurons=(1024, 512, 256), max_samples=m, n_estimators=e, random_state=42)\n",
    "        clf.fit(X_train_scaled)\n",
    "\n",
    "        # pyod.predict: 0 = inlier, 1 = outlier\n",
    "        y_pred = clf.predict(X_test_combined_scaled)\n",
    "\n",
    "        # cm und report\n",
    "        cm = confusion_matrix(y_true, y_pred, labels=[1,0])\n",
    "        print(f\"hidden neurons {n}\")\n",
    "        print(f\"n_estimators {e}\")\n",
    "        print(f\"max samples {m}\")\n",
    "        print(\"\\nClassification Report:\\n\", classification_report(y_true, y_pred, target_names=[\"Normal\",\"Relay\"]))\n",
    "\n",
    "        # plot\n",
    "        plt.figure(figsize=(6,5))\n",
    "        sns.heatmap(cm, annot=True, fmt=\"d\",\n",
    "                    xticklabels=[\"Relay\",\"Normal\"],\n",
    "                    yticklabels=[\"Relay\",\"Normal\"],\n",
    "                    cbar=False)\n",
    "        plt.xlabel(\"Predicted\")\n",
    "        plt.ylabel(\"True\")\n",
    "        plt.title(\"Konfusionsmatrix\")\n",
    "        plt.tight_layout()\n",
    "        plt.show()"
   ],
   "id": "a53c01faa76e5e58",
   "outputs": [
    {
     "name": "stdout",
     "output_type": "stream",
     "text": [
      "hidden neurons None\n",
      "n_estimators 100\n",
      "max samples 512\n",
      "\n",
      "Classification Report:\n",
      "               precision    recall  f1-score   support\n",
      "\n",
      "      Normal       0.54      0.98      0.70      2498\n",
      "       Relay       0.72      0.05      0.09      2166\n",
      "\n",
      "    accuracy                           0.55      4664\n",
      "   macro avg       0.63      0.52      0.39      4664\n",
      "weighted avg       0.63      0.55      0.42      4664\n",
      "\n"
     ]
    },
    {
     "data": {
      "text/plain": [
       "<Figure size 600x500 with 1 Axes>"
      ],
      "image/png": "[encoded data removed]"
     },
     "metadata": {},
     "output_type": "display_data"
    }
   ],
   "execution_count": 8
  },
  {
   "metadata": {},
   "cell_type": "code",
   "outputs": [],
   "execution_count": null,
   "source": "",
   "id": "9060b4f762bab82b"
  }
 ],
 "metadata": {
  "kernelspec": {
   "display_name": "Python 3",
   "language": "python",
   "name": "python3"
  },
  "language_info": {
   "codemirror_mode": {
    "name": "ipython",
    "version": 2
   },
   "file_extension": ".py",
   "mimetype": "text/x-python",
   "name": "python",
   "nbconvert_exporter": "python",
   "pygments_lexer": "ipython2",
   "version": "2.7.6"
  }
 },
 "nbformat": 4,
 "nbformat_minor": 5
}
