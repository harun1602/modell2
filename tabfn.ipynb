{
 "cells": [
  {
   "cell_type": "code",
   "id": "initial_id",
   "metadata": {
    "collapsed": true,
    "ExecuteTime": {
     "end_time": "2025-06-18T10:18:12.438321Z",
     "start_time": "2025-06-18T10:18:08.020203Z"
    }
   },
   "source": [
    "import h5py\n",
    "import numpy as np\n",
    "import matplotlib.pyplot as plt\n",
    "import seaborn as sns\n",
    "\n",
    "from sklearn.metrics import confusion_matrix, classification_report\n",
    "from sklearn.preprocessing import MinMaxScaler, StandardScaler\n",
    "from tabpfn import TabPFNClassifier\n",
    "\n",
    "normal_path = \"transients/S01/1/Normal/q_data\"\n",
    "relay_path  = \"transients/S01/1/Relay/q_data\"\n",
    "\n",
    "with h5py.File(\"datasets/transients_cleaned_padded.h5\", \"r\") as f:\n",
    "    normal_group = f[normal_path]\n",
    "    relay_group  = f[relay_path]\n",
    "\n",
    "    n_norm = normal_group[\"0\"].shape[0]\n",
    "    n_relay = relay_group[\"0\"].shape[0]\n",
    "\n",
    "    dataset_normal = np.zeros((49666, n_norm))\n",
    "    dataset_relay  = np.zeros((49666, n_relay))\n",
    "\n",
    "    for i in range(49666):\n",
    "        try:\n",
    "            dataset_normal[i] = normal_group[str(i)][:]\n",
    "        except KeyError:\n",
    "            continue\n",
    "\n",
    "    for i in range(49666):\n",
    "        try:\n",
    "            dataset_relay[i] = relay_group[str(i)][:]\n",
    "        except KeyError:\n",
    "            continue\n",
    "\n",
    "scalerMinMax = MinMaxScaler()\n",
    "scalerStandard = StandardScaler()\n",
    "\n",
    "X_train_normal = dataset_normal[:700]\n",
    "X_train_relay  = dataset_relay[:700]\n",
    "X_train = np.vstack((X_train_normal, X_train_relay))\n",
    "X_test_normal         = dataset_normal[47500:]\n",
    "X_test_relay          = dataset_relay[47500:]\n",
    "\n",
    "scalerMinMax.fit(X_train)\n",
    "X_train_scaled_minmax       = scalerMinMax.transform(X_train)\n",
    "X_test_norm_scaled_minmax   = scalerMinMax.transform(X_test_normal)\n",
    "X_test_relay_scaled_minmax  = scalerMinMax.transform(X_test_relay)\n",
    "\n",
    "scalerStandard.fit(X_train)\n",
    "X_train_scaled_standard        = scalerStandard.transform(X_train)\n",
    "X_test_norm_scaled_standard    = scalerStandard.transform(X_test_normal)\n",
    "X_test_relay_scaled_standard   = scalerStandard.transform(X_test_relay)\n",
    "\n",
    "X_test_combined = np.vstack((X_test_normal, X_test_relay))\n",
    "X_test_combined_scaled_minmax = np.vstack((X_test_norm_scaled_minmax, X_test_relay_scaled_minmax))\n",
    "X_test_combined_scaled_standard = np.vstack((X_test_norm_scaled_standard, X_test_relay_scaled_standard))\n",
    "\n",
    "y_train = np.array([0] * len(X_train_normal) + [1] * len(X_train_relay))\n",
    "y_true = np.array([0] * len(X_test_normal) + [1] * len(X_test_relay))"
   ],
   "outputs": [],
   "execution_count": 15
  },
  {
   "metadata": {
    "ExecuteTime": {
     "end_time": "2025-06-18T10:41:47.015533Z",
     "start_time": "2025-06-18T10:18:12.444720Z"
    }
   },
   "cell_type": "code",
   "source": [
    "clf = TabPFNClassifier(ignore_pretraining_limits=True)\n",
    "clf.fit(X_train, y_train)\n",
    "\n",
    "# pyod.predict: 0 = inlier, 1 = outlier\n",
    "y_pred = clf.predict(X_test_combined)\n",
    "\n",
    "# cm und report\n",
    "cm = confusion_matrix(y_true, y_pred, labels=[1,0])\n",
    "print(\"\\nClassification Report:\\n\", classification_report(y_true, y_pred, target_names=[\"Normal\",\"Relay\"]))\n",
    "\n",
    "# plot\n",
    "plt.figure(figsize=(6,5))\n",
    "sns.heatmap(cm, annot=True, fmt=\"d\",\n",
    "            xticklabels=[\"Relay\",\"Normal\"],\n",
    "            yticklabels=[\"Relay\",\"Normal\"],\n",
    "            cbar=False)\n",
    "plt.xlabel(\"Predicted\")\n",
    "plt.ylabel(\"True\")\n",
    "plt.title(\"Konfusionsmatrix\")\n",
    "plt.tight_layout()\n",
    "plt.show()"
   ],
   "id": "5e0703490c09f051",
   "outputs": [
    {
     "name": "stdout",
     "output_type": "stream",
     "text": [
      "\n",
      "Classification Report:\n",
      "               precision    recall  f1-score   support\n",
      "\n",
      "      Normal       0.80      0.88      0.84      2166\n",
      "       Relay       0.87      0.78      0.82      2166\n",
      "\n",
      "    accuracy                           0.83      4332\n",
      "   macro avg       0.83      0.83      0.83      4332\n",
      "weighted avg       0.83      0.83      0.83      4332\n",
      "\n"
     ]
    },
    {
     "data": {
      "text/plain": [
       "<Figure size 600x500 with 1 Axes>"
      ],
      "image/png": "[encoded data removed]"
     },
     "metadata": {},
     "output_type": "display_data"
    }
   ],
   "execution_count": 16
  }
 ],
 "metadata": {
  "kernelspec": {
   "display_name": "Python 3",
   "language": "python",
   "name": "python3"
  },
  "language_info": {
   "codemirror_mode": {
    "name": "ipython",
    "version": 2
   },
   "file_extension": ".py",
   "mimetype": "text/x-python",
   "name": "python",
   "nbconvert_exporter": "python",
   "pygments_lexer": "ipython2",
   "version": "2.7.6"
  }
 },
 "nbformat": 4,
 "nbformat_minor": 5
}
